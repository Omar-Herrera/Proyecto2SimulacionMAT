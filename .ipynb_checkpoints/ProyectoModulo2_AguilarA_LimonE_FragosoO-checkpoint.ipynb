{
 "cells": [
  {
   "cell_type": "markdown",
   "metadata": {},
   "source": [
    "# Desplazamiento de una edificación mediante fuerzas de trabajo #"
   ]
  },
  {
   "cell_type": "markdown",
   "metadata": {},
   "source": [
    "## Objetivos"
   ]
  },
  {
   "cell_type": "markdown",
   "metadata": {},
   "source": [
    "* Objetivo General: "
   ]
  },
  {
   "cell_type": "markdown",
   "metadata": {},
   "source": [
    "Emplear los conocimientos a lo largo del modulo aplicado a una situación real de nuestra carrera. El ejemplo que usaremos será el desplazamiento de un edificio. Esto con el fin de calcular la fuerza de trabajo necesaria para esto mediante nuestros conocimientos de clase."
   ]
  },
  {
   "cell_type": "markdown",
   "metadata": {},
   "source": [
    "* Objetivo especifico:"
   ]
  },
  {
   "cell_type": "markdown",
   "metadata": {},
   "source": [
    "El trabajo consta de calcular la fuerza de trabajo necesaria para mover una edificación de determinadas dimensiones 12 metros. Esto será inspirado en el traslado del edificio de Telefonos de México por el ingeniero Matute Remus en 1950. De esta acción tomaremos distintos datos para calcular el traslado del edificio más grande del mundo a la misma distancia que se recorrio el del ejemplo. Calcularemos los joules que se necesitan para mover cada edificio y los que ejerce un gato mecanico usado en el edificio de México. Esto nos permitirá saber la cantidad de gatos mecanicos necesarios para mover 12 metros el edificio más grande del mundo que es el Burj Khalifa."
   ]
  },
  {
   "cell_type": "markdown",
   "metadata": {},
   "source": [
    "### A continuación plantearemos el problema y mostraremos los datos necesatios para su resolución"
   ]
  },
  {
   "cell_type": "markdown",
   "metadata": {},
   "source": [
    "#### Contexto "
   ]
  },
  {
   "cell_type": "markdown",
   "metadata": {},
   "source": [
    "En 1950 el ingeniero civil Matute Remus realizó la labor de desplazar 12 metros el edificio de Telefonos de México. Este ubicado en el centro de Guadalajara.\n",
    "\n",
    "Lo que vuelve todavía aún más increible el asunto es que esto lo hicieron sin interrumpir el servicio. Esto fue mediante un sistema de rieles que fueron hubicados por debajo del edificio, también se emplearon gatos mecánicos para mover la edificación. Todo esto con el proposito de alinear el edificio con la calle Juarez y no cortar el servicio de telefono de la zona.\n",
    "\n",
    "Gracias a esta increible acción hoy se le recuerda al ingeniero Remus con una estatua fuera de lo que solía ser el edificio de Telefonos de México y con un puente nombrado en su honor."
   ]
  },
  {
   "cell_type": "markdown",
   "metadata": {},
   "source": [
    "#### Datos para los cálculos"
   ]
  },
  {
   "cell_type": "markdown",
   "metadata": {},
   "source": [
    "Sabemos que cada movimiento del edificio fue de $0.8$ milímetros, lo que equivale a $0.0008$ metros.\n",
    "En total se recorrieron $12$ metros, por lo que el número total de movimientos fue de:\n",
    "\n",
    "$$\n",
    "\\frac{12}{0.0008} = 15000\n",
    "$$"
   ]
  },
  {
   "cell_type": "markdown",
   "metadata": {},
   "source": [
    "Con esto sabemos que para que el edificio se recorriera $12$ metros se realizaron $15000$ movimientos de $0.8$ milímetros cada uno."
   ]
  },
  {
   "cell_type": "markdown",
   "metadata": {},
   "source": [
    "También sabemos que la fuerza de empuje que se requirió fue de $70$ toneladas, por lo que si esta se convierte a Newtons, se puede calcular el trabajo total requerido:\n",
    "\n",
    "$$\n",
    "W=FxD\n",
    "$$\n",
    "\n",
    "Donde __W__ es el trabajo, __F__ es la fuerza de empuje y __D__ es la distancia recorrida, por lo que al sustituir con nuestros datos tenemos:\n",
    "\n",
    "$$\n",
    "F= 70 t =686465.5N\n",
    "$$\n",
    "\n",
    "$$\n",
    "W=686465.5x12=8127751.52j\n",
    "$$\n",
    "\n",
    "Por lo que sabemos que nuestro trabajo es de $8127751.52$ joules."
   ]
  },
  {
   "cell_type": "markdown",
   "metadata": {},
   "source": [
    "Otra forma con la cual se puede calcular el trabajo es mediante la integral:\n",
    "\n",
    "$$\n",
    "W=\\int_{x_0}^{x_1} {F(x)}\\text{d}x\n",
    "$$\n",
    "\n",
    "donde $x_0$ es nuestra posición inicial, $x_1$ la posición final y $F(x)$ una función de posicion de un cuerpo en el espacio."
   ]
  },
  {
   "cell_type": "markdown",
   "metadata": {},
   "source": [
    "Se pudo haber elegido cualquier función y lo que variaría es su coeficiente constante. Para este proyecto se eligió la función cuadrática, por o que al sustituir en nuestras formulas:\n",
    "\n",
    "$$\n",
    "W=\\int_{0}^{12} {ax^2}\\text{d}x=8127751.52j\n",
    "$$"
   ]
  },
  {
   "cell_type": "markdown",
   "metadata": {},
   "source": [
    "Al integrar la función y evaluarla, se tiene que:\n",
    "\n",
    "$$\n",
    "a\\frac {12^3}{3}=8127751.52\n",
    "$$\n",
    "\n",
    "Despejando nuestra constante:\n",
    "\n",
    "$$\n",
    "a=\\frac{(3)(8127751.52)}{12^3}\n",
    "$$\n",
    "\n",
    "Lo que nos da:\n",
    "\n",
    "$$\n",
    "a=14110.68\n",
    "$$"
   ]
  },
  {
   "cell_type": "markdown",
   "metadata": {},
   "source": [
    "Sustituyendo en nuestra fórmula del trabajo:\n",
    "\n",
    "$$\n",
    "W=\\int_{0}^{12} {14110.68x^2}\\text{d}x\n",
    "$$"
   ]
  },
  {
   "cell_type": "markdown",
   "metadata": {},
   "source": [
    "Al dividir el resultado de nuestra integral entre $15000$ se obtiene el trabajo necesario para cada movimiento de $0.8$ mm, ya que como se mencionó anteriormente, se realizaron en total $15000$ movimientos de $0.8$mm para desplazar el edificio $12$m."
   ]
  },
  {
   "cell_type": "markdown",
   "metadata": {},
   "source": [
    "+ $\\int_{0}^{12} 14110.68x^{2} \\text{d}x$. \n",
    "\n",
    "---\n"
   ]
  },
  {
   "cell_type": "code",
   "execution_count": 1,
   "metadata": {},
   "outputs": [],
   "source": [
    "import numpy as np\n",
    "import pandas as pd\n",
    "import math "
   ]
  },
  {
   "cell_type": "code",
   "execution_count": 114,
   "metadata": {},
   "outputs": [],
   "source": [
    "fnc={'f1':lambda x: (14110.68)*x**2}"
   ]
  },
  {
   "cell_type": "code",
   "execution_count": 44,
   "metadata": {},
   "outputs": [],
   "source": [
    "def montecarlo(f,a,b,N):\n",
    "    u=np.random.uniform(a,b,N)\n",
    "    return (b-a)*np.mean(f(u))"
   ]
  },
  {
   "cell_type": "code",
   "execution_count": 123,
   "metadata": {},
   "outputs": [
    {
     "data": {
      "text/html": [
       "<div>\n",
       "<style scoped>\n",
       "    .dataframe tbody tr th:only-of-type {\n",
       "        vertical-align: middle;\n",
       "    }\n",
       "\n",
       "    .dataframe tbody tr th {\n",
       "        vertical-align: top;\n",
       "    }\n",
       "\n",
       "    .dataframe thead th {\n",
       "        text-align: right;\n",
       "    }\n",
       "</style>\n",
       "<table border=\"1\" class=\"dataframe\">\n",
       "  <thead>\n",
       "    <tr style=\"text-align: right;\">\n",
       "      <th></th>\n",
       "      <th>f1</th>\n",
       "    </tr>\n",
       "  </thead>\n",
       "  <tbody>\n",
       "    <tr>\n",
       "      <th>10</th>\n",
       "      <td>6.132897e+06</td>\n",
       "    </tr>\n",
       "    <tr>\n",
       "      <th>100</th>\n",
       "      <td>8.072888e+06</td>\n",
       "    </tr>\n",
       "    <tr>\n",
       "      <th>1000</th>\n",
       "      <td>8.056079e+06</td>\n",
       "    </tr>\n",
       "    <tr>\n",
       "      <th>10000</th>\n",
       "      <td>8.085022e+06</td>\n",
       "    </tr>\n",
       "    <tr>\n",
       "      <th>100000</th>\n",
       "      <td>8.053751e+06</td>\n",
       "    </tr>\n",
       "    <tr>\n",
       "      <th>1000000</th>\n",
       "      <td>8.112879e+06</td>\n",
       "    </tr>\n",
       "  </tbody>\n",
       "</table>\n",
       "</div>"
      ],
      "text/plain": [
       "                   f1\n",
       "10       6.132897e+06\n",
       "100      8.072888e+06\n",
       "1000     8.056079e+06\n",
       "10000    8.085022e+06\n",
       "100000   8.053751e+06\n",
       "1000000  8.112879e+06"
      ]
     },
     "execution_count": 123,
     "metadata": {},
     "output_type": "execute_result"
    }
   ],
   "source": [
    "N=np.logspace(1,6,6)\n",
    "N=N.astype(int)\n",
    "a=0\n",
    "b=12\n",
    "tabla=pd.DataFrame(index=N)\n",
    "for k,f in fnc.items():\n",
    "    for i in N:\n",
    "        tabla.loc[i,k]=montecarlo(f,a,b,i)\n",
    "tabla"
   ]
  },
  {
   "cell_type": "code",
   "execution_count": 124,
   "metadata": {},
   "outputs": [
    {
     "data": {
      "text/plain": [
       "542.7577267877812"
      ]
     },
     "execution_count": 124,
     "metadata": {},
     "output_type": "execute_result"
    }
   ],
   "source": [
    "montecarlo(f,a,b,1000000)/15000"
   ]
  },
  {
   "cell_type": "markdown",
   "metadata": {},
   "source": [
    "Ahora si se quisiera mover el Burj Khalifa $12$ metros, se puede aproximar el trabajo necesario utilizando los datos anteriores. Se sabe que el Burj Khalifa tiene un peso de $500000$ toneladas, equivalente a unos $201901617.6$ newtons.\n",
    "Si se utilizan las fórmulas anteriormente mencionadas para obtener el trabajo, se tiene:\n",
    "\n",
    "$$\n",
    "W=201901617.6x12=2390515153j\n",
    "$$\n",
    "\n",
    "$$\n",
    "W=\\int_{0}^{12} {ax^2}\\text{d}x=2390515153j\n",
    "$$"
   ]
  },
  {
   "cell_type": "markdown",
   "metadata": {},
   "source": [
    "Integrando nuevamente y evaluando se tiene:\n",
    "\n",
    "$$\n",
    "a\\frac {12^3}{3}=2390515153\n",
    "$$\n",
    "\n",
    "Despejando la constante:\n",
    "\n",
    "$$\n",
    "a=\\frac{(3)(2390515153)}{12^3}=4150199.918\n",
    "$$\n",
    "\n",
    "Por lo que ya se puede sustituir en la integral."
   ]
  },
  {
   "cell_type": "markdown",
   "metadata": {},
   "source": [
    "Nuevamente, si se pretende realizar $15000$ movimientos de $0.8$mm cada uno, para obtener el trabajo necesario por movimiento se divide el resultado de nuestra integral entre $15000$"
   ]
  },
  {
   "cell_type": "markdown",
   "metadata": {},
   "source": [
    "+ $\\int_{0}^{12} 4150199.918x^2\\text{d}x$."
   ]
  },
  {
   "cell_type": "code",
   "execution_count": 125,
   "metadata": {},
   "outputs": [],
   "source": [
    "fnc={'f2':lambda x: 4150199.918*x**2}"
   ]
  },
  {
   "cell_type": "code",
   "execution_count": 127,
   "metadata": {},
   "outputs": [
    {
     "data": {
      "text/html": [
       "<div>\n",
       "<style scoped>\n",
       "    .dataframe tbody tr th:only-of-type {\n",
       "        vertical-align: middle;\n",
       "    }\n",
       "\n",
       "    .dataframe tbody tr th {\n",
       "        vertical-align: top;\n",
       "    }\n",
       "\n",
       "    .dataframe thead th {\n",
       "        text-align: right;\n",
       "    }\n",
       "</style>\n",
       "<table border=\"1\" class=\"dataframe\">\n",
       "  <thead>\n",
       "    <tr style=\"text-align: right;\">\n",
       "      <th></th>\n",
       "      <th>f2</th>\n",
       "    </tr>\n",
       "  </thead>\n",
       "  <tbody>\n",
       "    <tr>\n",
       "      <th>10</th>\n",
       "      <td>2.274617e+09</td>\n",
       "    </tr>\n",
       "    <tr>\n",
       "      <th>100</th>\n",
       "      <td>2.200724e+09</td>\n",
       "    </tr>\n",
       "    <tr>\n",
       "      <th>1000</th>\n",
       "      <td>2.351101e+09</td>\n",
       "    </tr>\n",
       "    <tr>\n",
       "      <th>10000</th>\n",
       "      <td>2.397932e+09</td>\n",
       "    </tr>\n",
       "    <tr>\n",
       "      <th>100000</th>\n",
       "      <td>2.393244e+09</td>\n",
       "    </tr>\n",
       "    <tr>\n",
       "      <th>1000000</th>\n",
       "      <td>2.391552e+09</td>\n",
       "    </tr>\n",
       "  </tbody>\n",
       "</table>\n",
       "</div>"
      ],
      "text/plain": [
       "                   f2\n",
       "10       2.274617e+09\n",
       "100      2.200724e+09\n",
       "1000     2.351101e+09\n",
       "10000    2.397932e+09\n",
       "100000   2.393244e+09\n",
       "1000000  2.391552e+09"
      ]
     },
     "execution_count": 127,
     "metadata": {},
     "output_type": "execute_result"
    }
   ],
   "source": [
    "N=np.logspace(1,6,6)\n",
    "N=N.astype(int)\n",
    "a=0\n",
    "b=12\n",
    "tabla=pd.DataFrame(index=N)\n",
    "for k,f in fnc.items():\n",
    "    for i in N:\n",
    "        tabla.loc[i,k]=montecarlo(f,a,b,i)\n",
    "tabla"
   ]
  },
  {
   "cell_type": "code",
   "execution_count": 129,
   "metadata": {},
   "outputs": [
    {
     "data": {
      "text/plain": [
       "159156.9631933943"
      ]
     },
     "execution_count": 129,
     "metadata": {},
     "output_type": "execute_result"
    }
   ],
   "source": [
    "montecarlo(f,a,b,1000000)/15000"
   ]
  },
  {
   "cell_type": "code",
   "execution_count": 2,
   "metadata": {},
   "outputs": [
    {
     "data": {
      "text/html": [
       "<div>\n",
       "<style scoped>\n",
       "    .dataframe tbody tr th:only-of-type {\n",
       "        vertical-align: middle;\n",
       "    }\n",
       "\n",
       "    .dataframe tbody tr th {\n",
       "        vertical-align: top;\n",
       "    }\n",
       "\n",
       "    .dataframe thead th {\n",
       "        text-align: right;\n",
       "    }\n",
       "</style>\n",
       "<table border=\"1\" class=\"dataframe\">\n",
       "  <thead>\n",
       "    <tr style=\"text-align: right;\">\n",
       "      <th></th>\n",
       "      <th>Edificion</th>\n",
       "      <th>Peso</th>\n",
       "      <th>Unidades</th>\n",
       "      <th>Fuerza ejercida en t</th>\n",
       "      <th>N</th>\n",
       "      <th>J para los 12 m</th>\n",
       "      <th>J para los 0.8 mm</th>\n",
       "    </tr>\n",
       "  </thead>\n",
       "  <tbody>\n",
       "    <tr>\n",
       "      <th>0</th>\n",
       "      <td>Matute Remus</td>\n",
       "      <td>1700</td>\n",
       "      <td>t</td>\n",
       "      <td>70.00000</td>\n",
       "      <td>686465.5</td>\n",
       "      <td>8.114022e+06</td>\n",
       "      <td>542.75</td>\n",
       "    </tr>\n",
       "    <tr>\n",
       "      <th>1</th>\n",
       "      <td>Burj Khalifa</td>\n",
       "      <td>500,000</td>\n",
       "      <td>t</td>\n",
       "      <td>20588.23529</td>\n",
       "      <td>201901617.6</td>\n",
       "      <td>2.390515e+09</td>\n",
       "      <td>1591156.96</td>\n",
       "    </tr>\n",
       "    <tr>\n",
       "      <th>2</th>\n",
       "      <td>veces mayor</td>\n",
       "      <td>294</td>\n",
       "      <td>NaN</td>\n",
       "      <td>NaN</td>\n",
       "      <td>NaN</td>\n",
       "      <td>NaN</td>\n",
       "      <td>NaN</td>\n",
       "    </tr>\n",
       "  </tbody>\n",
       "</table>\n",
       "</div>"
      ],
      "text/plain": [
       "      Edificion    Peso  Unidades  Fuerza ejercida en t            N  \\\n",
       "0  Matute Remus     1700        t              70.00000     686465.5   \n",
       "1  Burj Khalifa  500,000        t           20588.23529  201901617.6   \n",
       "2  veces mayor       294      NaN                   NaN          NaN   \n",
       "\n",
       "   J para los 12 m  J para los 0.8 mm  \n",
       "0     8.114022e+06             542.75  \n",
       "1     2.390515e+09         1591156.96  \n",
       "2              NaN                NaN  "
      ]
     },
     "execution_count": 2,
     "metadata": {},
     "output_type": "execute_result"
    }
   ],
   "source": [
    "datos=pd.read_csv('Datos Obtenidos1.csv')\n",
    "datos"
   ]
  },
  {
   "cell_type": "code",
   "execution_count": 5,
   "metadata": {},
   "outputs": [
    {
     "data": {
      "text/html": [
       "<div>\n",
       "<style scoped>\n",
       "    .dataframe tbody tr th:only-of-type {\n",
       "        vertical-align: middle;\n",
       "    }\n",
       "\n",
       "    .dataframe tbody tr th {\n",
       "        vertical-align: top;\n",
       "    }\n",
       "\n",
       "    .dataframe thead th {\n",
       "        text-align: right;\n",
       "    }\n",
       "</style>\n",
       "<table border=\"1\" class=\"dataframe\">\n",
       "  <thead>\n",
       "    <tr style=\"text-align: right;\">\n",
       "      <th></th>\n",
       "      <th>Edificio</th>\n",
       "      <th>Numero</th>\n",
       "      <th>Fuerza de trabajo por gato</th>\n",
       "      <th>Fuerza necesaria a solo 0.8 mm</th>\n",
       "    </tr>\n",
       "  </thead>\n",
       "  <tbody>\n",
       "    <tr>\n",
       "      <th>0</th>\n",
       "      <td>Matute</td>\n",
       "      <td>12.00000</td>\n",
       "      <td>45.229167</td>\n",
       "      <td>542.75</td>\n",
       "    </tr>\n",
       "    <tr>\n",
       "      <th>1</th>\n",
       "      <td>Burj Khalifa</td>\n",
       "      <td>35179.88672</td>\n",
       "      <td>45.229167</td>\n",
       "      <td>1591156.96</td>\n",
       "    </tr>\n",
       "  </tbody>\n",
       "</table>\n",
       "</div>"
      ],
      "text/plain": [
       "       Edificio      Numero   Fuerza de trabajo por gato   \\\n",
       "0       Matute      12.00000                    45.229167   \n",
       "1  Burj Khalifa  35179.88672                    45.229167   \n",
       "\n",
       "   Fuerza necesaria a solo 0.8 mm  \n",
       "0                          542.75  \n",
       "1                      1591156.96  "
      ]
     },
     "execution_count": 5,
     "metadata": {},
     "output_type": "execute_result"
    }
   ],
   "source": [
    "datos=pd.read_csv('Datos obtenidos 2.csv')\n",
    "datos"
   ]
  },
  {
   "cell_type": "markdown",
   "metadata": {},
   "source": [
    "## Conclusión "
   ]
  },
  {
   "cell_type": "markdown",
   "metadata": {},
   "source": [
    "El primer aprendizaje que obtuvimos fue que esta nueva manera de hacer calculos e integraciones nos facilitaron mucho un trabajo de proporciones titánicas. Por esto nos referimos a que hace 70 todos estos cálculos tenian que ser a mano, pero estos fueron para lograr mover un edificio 294 veces más ligero que el Burj Khalifa. En el caso de que se intentara hacer tal acción sin los conocimientos que tenemos de la integración Montecarlo y el programa Jupyter, nos tomaría mucho más de una semana dedicada a esos cálculos.\n",
    "\n",
    "También aprendimos a visualizar la fuerza necesaria para realizar un trabajo de tal magnitud. Sabemos que es prácticamente imposible cometer tal hazaña por diferentes factores, pero en la simulación pudimos comprender el trabajo necesario en unidades de fuerza y en cantidad de maquinaria para este trabajo. Eso nos pareció interesante debido a que en su tiempo así debió de parecer el trabajo del ingeniero Remus."
   ]
  },
  {
   "cell_type": "markdown",
   "metadata": {},
   "source": [
    "## Referencias:"
   ]
  },
  {
   "cell_type": "markdown",
   "metadata": {},
   "source": [
    "Becerril, R. A. (2017). El traslado de un edificio completo en 1950. Geotécnia 242, 12-14."
   ]
  }
 ],
 "metadata": {
  "kernelspec": {
   "display_name": "Python 3",
   "language": "python",
   "name": "python3"
  },
  "language_info": {
   "codemirror_mode": {
    "name": "ipython",
    "version": 3
   },
   "file_extension": ".py",
   "mimetype": "text/x-python",
   "name": "python",
   "nbconvert_exporter": "python",
   "pygments_lexer": "ipython3",
   "version": "3.8.3"
  }
 },
 "nbformat": 4,
 "nbformat_minor": 4
}
